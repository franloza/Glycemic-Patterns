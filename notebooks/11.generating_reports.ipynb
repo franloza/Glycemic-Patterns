{
 "cells": [
  {
   "cell_type": "code",
   "execution_count": 1,
   "metadata": {
    "collapsed": false
   },
   "outputs": [],
   "source": [
    "from model.Model import Model\n",
    "trees = Model(\"data/ACN_20160331_20160414_FREE_STYLE.txt\", metadata={\"Patient_Name\": \"ACN\"})\n",
    "trees.fit()\n",
    "trees.generate_report()"
   ]
  },
  {
   "cell_type": "code",
   "execution_count": 2,
   "metadata": {},
   "outputs": [
    {
     "data": {
      "text/html": [
       "<div class=\"alert alert-block alert-warning\">W0001: The number of carbohydrate registers (Type 5) is less than 1 per day. Patterns may not be accurate</div>"
      ],
      "text/plain": [
       "<div class=\"alert alert-block alert-warning\">W0001: The number of carbohydrate registers (Type 5) is less than 1 per day. Patterns may not be accurate</div>"
      ]
     },
     "execution_count": 0,
     "metadata": {},
     "output_type": "execute_result"
    },
    {
     "data": {
      "text/html": [
       "<div class=\"alert alert-block alert-warning\">W0011: Patrones de hiperglucemia. The decision tree only consists of a root node. Patterns can't be defined</div>"
      ],
      "text/plain": [
       "<div class=\"alert alert-block alert-warning\">W0011: Patrones de hiperglucemia. The decision tree only consists of a root node. Patterns can't be defined</div>"
      ]
     },
     "execution_count": 0,
     "metadata": {},
     "output_type": "execute_result"
    }
   ],
   "source": [
    "trees = Model(\"data/APD_20160620_20160704_FREE_STYLE.txt\", metadata={\"Patient_Name\": \"APD\"})\n",
    "trees.fit()\n",
    "trees.generate_report()"
   ]
  },
  {
   "cell_type": "code",
   "execution_count": 3,
   "metadata": {},
   "outputs": [],
   "source": [
    "trees = Model(\"data/CAA_20160907_20160922_FREE_STYLE.txt\", metadata={\"Patient_Name\": \"CAA\"})\n",
    "trees.fit()\n",
    "trees.generate_report()"
   ]
  },
  {
   "cell_type": "code",
   "execution_count": null,
   "metadata": {},
   "outputs": [],
   "source": [
    "trees = Model(\"data/MPA_20160525_20160528_FREE_STYLE.txt\", metadata={\"Patient_Name\": \"MPA\"})\n",
    "trees.fit()\n",
    "trees.generate_report()"
   ]
  },
  {
   "cell_type": "code",
   "execution_count": 9,
   "metadata": {},
   "outputs": [
    {
     "data": {
      "text/html": [
       "<div class=\"alert alert-block alert-warning\">W0001: The number of carbohydrate registers (Type 5) is less than 1 per day. Patterns may not be accurate</div>"
      ],
      "text/plain": [
       "<div class=\"alert alert-block alert-warning\">W0001: The number of carbohydrate registers (Type 5) is less than 1 per day. Patterns may not be accurate</div>"
      ]
     },
     "execution_count": 0,
     "metadata": {},
     "output_type": "execute_result"
    },
    {
     "data": {
      "text/html": [
       "<div class=\"alert alert-block alert-warning\">W0011: Patrones de hiperglucemia. The decision tree only consists of a root node. Patterns can't be defined</div>"
      ],
      "text/plain": [
       "<div class=\"alert alert-block alert-warning\">W0011: Patrones de hiperglucemia. The decision tree only consists of a root node. Patterns can't be defined</div>"
      ]
     },
     "execution_count": 0,
     "metadata": {},
     "output_type": "execute_result"
    },
    {
     "data": {
      "text/html": [
       "<div class=\"alert alert-block alert-warning\">W0013: Patrones de hiperglucemia severa. The decision tree only consists of a root node. Patterns can't be defined</div>"
      ],
      "text/plain": [
       "<div class=\"alert alert-block alert-warning\">W0013: Patrones de hiperglucemia severa. The decision tree only consists of a root node. Patterns can't be defined</div>"
      ]
     },
     "execution_count": 0,
     "metadata": {},
     "output_type": "execute_result"
    }
   ],
   "source": [
    "trees = Model(\"data/SBF_20160404_20160408_FREE_STYLE.txt\", metadata={\"Patient_Name\": \"SBF\"})\n",
    "trees.fit()\n",
    "trees.generate_report()"
   ]
  },
  {
   "cell_type": "code",
   "execution_count": null,
   "metadata": {},
   "outputs": [],
   "source": [
    ""
   ]
  }
 ],
 "metadata": {
  "kernelspec": {
   "display_name": "Python 2",
   "language": "python",
   "name": "python2"
  },
  "language_info": {
   "codemirror_mode": {
    "name": "ipython",
    "version": 2.0
   },
   "file_extension": ".py",
   "mimetype": "text/x-python",
   "name": "python",
   "nbconvert_exporter": "python",
   "pygments_lexer": "ipython2",
   "version": "2.7.6"
  }
 },
 "nbformat": 4,
 "nbformat_minor": 0
}