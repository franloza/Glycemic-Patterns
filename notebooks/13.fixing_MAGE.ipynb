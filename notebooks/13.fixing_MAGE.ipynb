{
 "cells": [
  {
   "cell_type": "code",
   "execution_count": 35,
   "metadata": {
    "collapsed": true
   },
   "outputs": [],
   "source": [
    "import os\n",
    "import sys\n",
    "\n",
    "# Add modules path\n",
    "module_path = os.path.abspath(os.path.join('..'))\n",
    "if module_path not in sys.path:\n",
    "    sys.path.append(module_path)\n",
    "\n",
    "%matplotlib inline\n",
    "import pandas as pd\n",
    "import matplotlib.pyplot as plt\n",
    "from datetime import datetime\n",
    "import numpy as np\n",
    "import glycemic_patterns.preprocessor as pp\n",
    "from glycemic_patterns.model.Translator import Translator\n",
    "from  glycemic_patterns.lib.peakdetect import peakdetect\n",
    "\n",
    "def wrong_mage(data, day):\n",
    "    \n",
    "    # Calculate vector of glucose values\n",
    "    values = data[data[\"Day_Block\"] == day.date()][[\"Datetime\", \"Glucose_Auto\"]].reset_index(drop=True)\n",
    "    vector = values[\"Glucose_Auto\"]\n",
    "\n",
    "    # Calculate standard deviation of the values\n",
    "    std = np.std(vector)\n",
    "\n",
    "    # Calculate peaks of the values (Starting points of excursions) - Indexes and values\n",
    "    peaks = peakdetect(np.array(vector), lookahead=2, delta=std)\n",
    "    indexes = []\n",
    "    peak_values = []\n",
    "    for posOrNegPeaks in peaks:\n",
    "        for peak in posOrNegPeaks:\n",
    "            indexes.append(peak[0])\n",
    "            peak_values.append((peak[1]))\n",
    "    \n",
    "    print('Standard deviation is {:f}'.format(std))\n",
    "    print('Peaks indexes are: %s' % indexes)\n",
    "    print('Peaks values are: %s' % peak_values)\n",
    "\n",
    "    # Calculate differences between consecutive peaks\n",
    "    differences = []\n",
    "    for first, second in zip(peak_values, peak_values[1:]):\n",
    "        differences.append(np.abs(first - second))\n",
    "\n",
    "    # Filter differences greater than standard deviation\n",
    "    valid_differences = [elem for elem in differences if elem > std]\n",
    "    \n",
    "    print('Excursion differences: %s' % differences)\n",
    "    print('Valid excursion differences: %s' % valid_differences)\n",
    "\n",
    "    # Return MAGE\n",
    "    if len(valid_differences) == 0:\n",
    "        MAGE = np.nan\n",
    "    else:\n",
    "        MAGE = sum(valid_differences) / len(valid_differences)\n",
    "        \n",
    "    print('MAGE is :{:f}'.format(MAGE))\n",
    "\n",
    "    _, ax = plt.subplots()\n",
    "    values.plot(ax=ax, kind='line', x=\"Datetime\", y=\"Glucose_Auto\")\n",
    "    ax.plot(values.ix[indexes][\"Datetime\"], values.ix[indexes][\"Glucose_Auto\"], '+', mfc=None, mec='b', mew=2, ms=8)\n",
    "    ax.plot(values.ix[sorted(indexes)][\"Datetime\"], values.ix[sorted(indexes)][\"Glucose_Auto\"], mfc=None, mec='g', mew=2, ms=8)\n",
    "\n",
    "    plt.show()\n",
    "    \n",
    "# Define language and translator functions\n",
    "language = \"es\"\n",
    "translator = Translator(language)\n",
    "to_lang = translator.translate_to_language\n",
    "to_col = translator.translate_to_column\n",
    "\n",
    "# Load data\n",
    "raw_data = pd.read_csv(\"data/ACN_20160331_20160414_FREE_STYLE.txt\", header=0, skiprows=1, delimiter=\"\\t\", index_col=0, usecols=list(range(0, 9)),\n",
    "                       parse_dates=to_lang([\"Datetime\"]), decimal=\",\",\n",
    "                       date_parser=lambda x: pd.to_datetime(x, format=\"%Y/%m/%d %H:%M\"))\n",
    "# Translate column names\n",
    "raw_data.columns = (to_col(raw_data.columns))\n",
    "\n",
    "# Divide in blocks, extend dataset and clean data\n",
    "\n",
    "block_data = pp.define_blocks(raw_data)"
   ]
  },
  {
   "cell_type": "markdown",
   "metadata": {
    "collapsed": false
   },
   "source": [
    "\n",
    "#ACN - 01/04/2016- FREE STYLE - MAGE FIX"
   ]
  },
  {
   "cell_type": "code",
   "execution_count": 45,
   "metadata": {},
   "outputs": [],
   "source": [
    "def good_mage(data, day):\n",
    "    plt.clf() \n",
    "    \n",
    "    # Calculate vector of glucose values\n",
    "    values = data[data[\"Day_Block\"] == day.date()][[\"Datetime\", \"Glucose_Auto\"]].reset_index(drop=True)\n",
    "    vector = values[\"Glucose_Auto\"]\n",
    "\n",
    "    # Calculate standard deviation of the values\n",
    "    std = np.std(vector)\n",
    "\n",
    "    # Calculate peaks of the values (Starting points of excursions) - Indexes and values\n",
    "    peaks = peakdetect(np.array(vector), lookahead=2, delta=std)\n",
    "    indexes = []\n",
    "    peak_values = []\n",
    "    for posOrNegPeaks in peaks:\n",
    "        for peak in posOrNegPeaks:\n",
    "            indexes.append(peak[0])\n",
    "            peak_values.append((peak[1]))\n",
    "           \n",
    "    # Sort indexes to get the excursions \n",
    "    indexes, peak_values = zip(*sorted(zip(indexes, peak_values)))\n",
    "    indexes = list(indexes)\n",
    "    peak_values = list(peak_values)\n",
    "    \n",
    "    print('Standard deviation is {:f}'.format(std))\n",
    "    print('Peaks indexes are: %s' % str(indexes))\n",
    "    print('Peaks values are: %s' % str(peak_values))\n",
    "\n",
    "    # Calculate differences between consecutive peaks\n",
    "    differences = []\n",
    "    for first, second in zip(peak_values, peak_values[1:]):\n",
    "        differences.append(np.abs(first - second))\n",
    "\n",
    "    # Filter differences greater than standard deviation\n",
    "    valid_differences = [elem for elem in differences if elem > std]\n",
    "    \n",
    "    print('Excursion differences: %s' % differences)\n",
    "    print('Valid excursion differences: %s' % valid_differences)\n",
    "\n",
    "    # Return MAGE\n",
    "    if len(valid_differences) == 0:\n",
    "        MAGE = np.nan\n",
    "    else:\n",
    "        MAGE = sum(valid_differences) / len(valid_differences)\n",
    "        \n",
    "    print('MAGE is :{:f}'.format(MAGE))\n",
    "\n",
    "    _, ax = plt.subplots()\n",
    "    values.plot(ax=ax, kind='line', x=\"Datetime\", y=\"Glucose_Auto\")\n",
    "    ax.plot(values.ix[indexes][\"Datetime\"], values.ix[indexes][\"Glucose_Auto\"], '+', mfc=None, mec='b', mew=2, ms=8)\n",
    "    ax.plot(values.ix[sorted(indexes)][\"Datetime\"], values.ix[sorted(indexes)][\"Glucose_Auto\"], mfc=None, mec='g', mew=2, ms=8)\n",
    "\n",
    "    plt.show()\n",
    "    \n",
    "# Define language and translator functions\n",
    "language = \"es\"\n",
    "translator = Translator(language)\n",
    "to_lang = translator.translate_to_language\n",
    "to_col = translator.translate_to_column\n",
    "\n",
    "# Load data\n",
    "raw_data = pd.read_csv(\"data/ACN_20160331_20160414_FREE_STYLE.txt\", header=0, skiprows=1, delimiter=\"\\t\", index_col=0, usecols=list(range(0, 9)),\n",
    "                       parse_dates=to_lang([\"Datetime\"]), decimal=\",\",\n",
    "                       date_parser=lambda x: pd.to_datetime(x, format=\"%Y/%m/%d %H:%M\"))\n",
    "# Translate column names\n",
    "raw_data.columns = (to_col(raw_data.columns))\n",
    "\n",
    "# Divide in blocks, extend dataset and clean data\n",
    "\n",
    "block_data = pp.define_blocks(raw_data)"
   ]
  },
  {
   "cell_type": "code",
   "execution_count": 46,
   "metadata": {
    "collapsed": false
   },
   "outputs": [
    {
     "name": "stdout",
     "output_type": "stream",
     "text": [
      "Standard deviation is 44.572693\nPeaks indexes are: [9, 38, 102, 152, 31, 49, 144]\nPeaks values are: [224.0, 139.0, 169.0, 161.0, 93.0, 47.0, 52.0]\nExcursion differences: [85.0, 30.0, 8.0, 68.0, 46.0, 5.0]\nValid excursion differences: [85.0, 68.0, 46.0]\nMAGE is :66.333333\n"
     ]
    },
    {
     "data": {
      "image/png": "[encoded data removed]",
      "text/plain": [
       "<matplotlib.figure.Figure at 0x7ffa78f75668>"
      ]
     },
     "metadata": {},
     "output_type": "display_data"
    }
   ],
   "source": [
    "wrong_mage(block_data, datetime(2016, 4, 1))"
   ]
  },
  {
   "cell_type": "code",
   "execution_count": 47,
   "metadata": {},
   "outputs": [
    {
     "name": "stdout",
     "output_type": "stream",
     "text": [
      "Standard deviation is 44.572693\nPeaks indexes are: [9, 31, 38, 49, 102, 144, 152]\nPeaks values are: [224.0, 93.0, 139.0, 47.0, 169.0, 52.0, 161.0]\nExcursion differences: [131.0, 46.0, 92.0, 122.0, 117.0, 109.0]\nValid excursion differences: [131.0, 46.0, 92.0, 122.0, 117.0, 109.0]\nMAGE is :102.833333\n"
     ]
    },
    {
     "data": {
      "text/plain": [
       "<matplotlib.figure.Figure at 0x7ffa78e735c0>"
      ]
     },
     "execution_count": 0,
     "metadata": {},
     "output_type": "execute_result"
    },
    {
     "data": {
      "image/png": "[encoded data removed]",
      "text/plain": [
       "<matplotlib.figure.Figure at 0x7ffa78f74320>"
      ]
     },
     "metadata": {},
     "output_type": "display_data"
    }
   ],
   "source": [
    "good_mage(block_data, datetime(2016, 4, 1))"
   ]
  },
  {
   "cell_type": "code",
   "execution_count": 48,
   "metadata": {},
   "outputs": [],
   "source": [
    ""
   ]
  },
  {
   "cell_type": "code",
   "execution_count": 11,
   "metadata": {},
   "outputs": [],
   "source": [
    ""
   ]
  },
  {
   "cell_type": "code",
   "execution_count": 11,
   "metadata": {},
   "outputs": [],
   "source": [
    ""
   ]
  },
  {
   "cell_type": "code",
   "execution_count": 11,
   "metadata": {},
   "outputs": [],
   "source": [
    ""
   ]
  },
  {
   "cell_type": "code",
   "execution_count": 11,
   "metadata": {},
   "outputs": [],
   "source": [
    ""
   ]
  },
  {
   "cell_type": "code",
   "execution_count": 11,
   "metadata": {},
   "outputs": [],
   "source": [
    ""
   ]
  },
  {
   "cell_type": "code",
   "execution_count": 11,
   "metadata": {},
   "outputs": [],
   "source": [
    ""
   ]
  },
  {
   "cell_type": "code",
   "execution_count": 11,
   "metadata": {},
   "outputs": [],
   "source": [
    ""
   ]
  },
  {
   "cell_type": "code",
   "execution_count": 11,
   "metadata": {},
   "outputs": [],
   "source": [
    ""
   ]
  },
  {
   "cell_type": "code",
   "execution_count": 11,
   "metadata": {},
   "outputs": [],
   "source": [
    ""
   ]
  },
  {
   "cell_type": "code",
   "execution_count": 11,
   "metadata": {},
   "outputs": [],
   "source": [
    ""
   ]
  },
  {
   "cell_type": "code",
   "execution_count": 11,
   "metadata": {},
   "outputs": [],
   "source": [
    ""
   ]
  },
  {
   "cell_type": "code",
   "execution_count": null,
   "metadata": {},
   "outputs": [],
   "source": [
    ""
   ]
  }
 ],
 "metadata": {
  "kernelspec": {
   "display_name": "Python 2",
   "language": "python",
   "name": "python2"
  },
  "language_info": {
   "codemirror_mode": {
    "name": "ipython",
    "version": 2.0
   },
   "file_extension": ".py",
   "mimetype": "text/x-python",
   "name": "python",
   "nbconvert_exporter": "python",
   "pygments_lexer": "ipython2",
   "version": "2.7.6"
  }
 },
 "nbformat": 4,
 "nbformat_minor": 0
}