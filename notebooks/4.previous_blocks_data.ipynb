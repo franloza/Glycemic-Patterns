{
 "cells": [
  {
   "cell_type": "code",
   "execution_count": 3,
   "metadata": {
    "collapsed": true
   },
   "outputs": [],
   "source": [
    "% matplotlib notebook\n",
    "import pandas as pd\n",
    "import matplotlib.pyplot as plt\n",
    "import os\n",
    "import sys\n",
    "from IPython.display import Image\n",
    "\n",
    "# Add modules path\n",
    "module_path = os.path.abspath(os.path.join('..'))\n",
    "if module_path not in sys.path:\n",
    "    sys.path.append(module_path)\n",
    "\n",
    "from Translator import Translator\n",
    "from DecisionTree import DecisionTree\n",
    "import preprocessor as pp\n",
    "\n",
    "\n",
    "# Add modules path\n",
    "module_path = os.path.abspath(os.path.join('..'))\n",
    "if module_path not in sys.path:\n",
    "    sys.path.append(module_path)\n",
    "\n",
    "# Define language and translator functions\n",
    "language = \"es\"\n",
    "translator = Translator(language)\n",
    "to_lang = translator.translate_to_language\n",
    "to_col = translator.translate_to_column\n",
    "\n",
    "# Load data\n",
    "raw_data = pd.read_csv(\"sample.txt\", header=0, skiprows=1, delimiter=\"\\t\", index_col=0, usecols=list(range(0, 9)),\n",
    "                       parse_dates=to_lang([\"Datetime\"]), decimal=\",\",\n",
    "                       date_parser=lambda x: pd.to_datetime(x, format=\"%Y/%m/%d %H:%M\"))\n",
    "# Translate column names\n",
    "raw_data.columns = (to_col(raw_data.columns))\n",
    "\n",
    "# Divide in blocks, extend dataset and clean data\n",
    "block_data = pp.define_blocks(raw_data)\n",
    "cleaned_block_data = pp.clean_processed_data(block_data)\n",
    "extended_data = pp.extend_data(cleaned_block_data)\n",
    "cleaned_extended_data = pp.clean_extended_data(extended_data)\n",
    "\n",
    "# Create decision trees\n",
    "[data, labels] = pp.prepare_to_decision_trees (cleaned_extended_data)\n",
    "hyper_dt = DecisionTree(data, labels[\"Hyperglycemia_Diagnosis\"])\n",
    "hypo_dt = DecisionTree(data, labels[\"Hypoglycemia_Diagnosis\"])"
   ]
  },
  {
   "cell_type": "code",
   "execution_count": null,
   "metadata": {
    "collapsed": true
   },
   "outputs": [],
   "source": [
    ""
   ]
  }
 ],
 "metadata": {
  "kernelspec": {
   "display_name": "Python 2",
   "language": "python",
   "name": "python2"
  },
  "language_info": {
   "codemirror_mode": {
    "name": "ipython",
    "version": 2.0
   },
   "file_extension": ".py",
   "mimetype": "text/x-python",
   "name": "python",
   "nbconvert_exporter": "python",
   "pygments_lexer": "ipython2",
   "version": "2.7.6"
  }
 },
 "nbformat": 4,
 "nbformat_minor": 0
}