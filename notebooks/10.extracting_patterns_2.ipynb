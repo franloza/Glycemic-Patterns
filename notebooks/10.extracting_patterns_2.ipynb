{
 "cells": [
  {
   "cell_type": "code",
   "execution_count": 2,
   "metadata": {
    "collapsed": false
   },
   "outputs": [],
   "source": [
    "% matplotlib notebook\n",
    "import pandas as pd\n",
    "import matplotlib.pyplot as plt\n",
    "import os\n",
    "import sys\n",
    "import numpy as np\n",
    "from IPython.display import Image\n",
    "\n",
    "\n",
    "# Add modules path\n",
    "module_path = os.path.abspath(os.path.join('..'))\n",
    "if module_path not in sys.path:\n",
    "    sys.path.append(module_path)\n",
    "\n",
    "from model.Translator import Translator\n",
    "from model.DecisionTree import DecisionTree\n",
    "from model.Rule import Rule\n",
    "import preprocessor as pp\n",
    "\n",
    "\n",
    "# Add modules path\n",
    "module_path = os.path.abspath(os.path.join('..'))\n",
    "if module_path not in sys.path:\n",
    "    sys.path.append(module_path)\n",
    "\n",
    "# Define language and translator functions\n",
    "language = \"es\"\n",
    "translator = Translator(language)\n",
    "to_lang = translator.translate_to_language\n",
    "to_col = translator.translate_to_column\n",
    "\n",
    "# Load data\n",
    "raw_data = pd.read_csv(\"sample.txt\", header=0, skiprows=1, delimiter=\"\\t\", index_col=0, usecols=list(range(0, 9)),\n",
    "                       parse_dates=to_lang([\"Datetime\"]), decimal=\",\",\n",
    "                       date_parser=lambda x: pd.to_datetime(x, format=\"%Y/%m/%d %H:%M\"))\n",
    "# Translate column names\n",
    "raw_data.columns = (to_col(raw_data.columns))\n",
    "\n",
    "# Divide in blocks, extend dataset and clean data\n",
    "block_data = pp.define_blocks(raw_data)\n",
    "cleaned_block_data = pp.clean_processed_data(block_data)\n",
    "extended_data = pp.extend_data(cleaned_block_data)\n",
    "cleaned_extended_data = pp.clean_extended_data(extended_data)\n",
    "\n",
    "# Create decision trees\n",
    "[data, labels] = pp.prepare_to_decision_trees (cleaned_extended_data)\n",
    "hyper_dt = DecisionTree(data, labels[\"Hyperglycemia_Diagnosis_Next_Block\"])\n",
    "hypo_dt = DecisionTree(data, labels[\"Hypoglycemia_Diagnosis_Next_Block\"])\n",
    "Image(hyper_dt.graph.create_png())\n",
    "tree = hyper_dt.tree"
   ]
  },
  {
   "cell_type": "code",
   "execution_count": 3,
   "metadata": {},
   "outputs": [],
   "source": [
    "def get_decisions (tree, children_left, children_right, decisions, stack, node_id, are_leaves):\n",
    "\n",
    "    feature = tree.feature\n",
    "    threshold = tree.threshold\n",
    "    impurity = tree.impurity\n",
    "    samples = tree.n_node_samples\n",
    "    value = tree.value\n",
    "    \n",
    "    left_node = children_left[node_id]\n",
    "    right_node = children_right[node_id]\n",
    "    decisions.insert(node_id,stack)\n",
    "    value_neg = value[node_id][0][0]\n",
    "    value_pos = value[node_id][0][1]\n",
    "    class_str = 'Negative' if value_neg > value_pos else 'Positive'\n",
    "    if left_node != right_node:\n",
    "        stack_left = stack + [\n",
    "            {'Feature': int(feature[node_id]), 'Operator': '<=', 'Threshold': threshold[node_id], \n",
    "             'Impurity': impurity[node_id], 'Samples': samples[node_id], 'Number_Neg': value[node_id][0][0],\n",
    "             'Number_Pos': value[node_id][0][1], 'Class': class_str}\n",
    "        ]\n",
    "        stack_right = stack + [\n",
    "            {'Feature': int(feature[node_id]), 'Operator': '>', 'Threshold': threshold[node_id], \n",
    "             'Impurity': impurity[node_id], 'Samples': samples[node_id], 'Number_Neg': value[node_id][0][0],\n",
    "             'Number_Pos': value[node_id][0][1], 'Class': class_str}\n",
    "        ]\n",
    "        get_decisions (tree, children_left, children_right, decisions, stack_left, left_node, are_leaves)\n",
    "        get_decisions (tree, children_left, children_right, decisions, stack_right, right_node, are_leaves)\n",
    "    else:\n",
    "        are_leaves[node_id] = True\n",
    "        stack += [\n",
    "            {'Impurity': impurity[node_id], 'Samples': samples[node_id], 'Number_Neg': value_neg,\n",
    "             'Number_Pos': value_pos, 'Class': class_str}\n",
    "        ]\n",
    "        decisions.insert(node_id, stack)"
   ]
  },
  {
   "cell_type": "code",
   "execution_count": 4,
   "metadata": {},
   "outputs": [],
   "source": [
    "def getPatterns(tree):\n",
    "    \n",
    "    n_nodes = tree.node_count\n",
    "    children_left = tree.children_left\n",
    "    children_right = tree.children_right\n",
    "\n",
    "    are_leaves = np.zeros(shape=n_nodes, dtype=bool)\n",
    "    stack = [] \n",
    "    decisions = []\n",
    "    \n",
    "    get_decisions (tree, children_left, children_right, decisions, stack, 0, are_leaves)\n",
    "    for id_node, node in enumerate(decisions):\n",
    "        for idx_decision, decision in enumerate(decisions[id_node]):\n",
    "            if 'Feature' in decisions[id_node][idx_decision]:\n",
    "                feature_idx = decisions[id_node][idx_decision]['Feature']\n",
    "                if isinstance(feature_idx, int):\n",
    "                    value = data.columns.values[feature_idx]\n",
    "                    decisions[id_node][idx_decision]['Feature'] = value\n",
    "    leaves = []\n",
    "    for idx, leaf in enumerate(are_leaves):\n",
    "        if leaf:\n",
    "            leaves.append(decisions[idx])\n",
    "    patterns = []\n",
    "    # Last element contains the leaf information\n",
    "    valid_leaves = [leaf for leaf in leaves if leaf[-1]['Class'] == 'Positive']\n",
    "    for leaf in valid_leaves:\n",
    "        patterns.append(\n",
    "            {\"rules\": [Rule(node[\"Feature\"], node[\"Operator\"], node[\"Threshold\"], translator) for node in leaf[:-1]],\n",
    "             \"samples\": leaf[-1][\"Samples\"],\n",
    "             \"impurity\": leaf[-1][\"Impurity\"],\n",
    "             \"number_pos\": leaf[-1][\"Number_Pos\"],\n",
    "             'number_neg': leaf[-1][\"Number_Neg\"]\n",
    "            })  \n",
    "    return patterns"
   ]
  },
  {
   "cell_type": "code",
   "execution_count": 5,
   "metadata": {
    "collapsed": true
   },
   "outputs": [
    {
     "data": {
      "text/plain": [
       "[{'impurity': 0.0,\n  'number_neg': 0.0,\n  'number_pos': 210.0,\n  'rules': [<model.Rule.Rule at 0x7f3048636780>,\n   <model.Rule.Rule at 0x7f30486367b8>,\n   <model.Rule.Rule at 0x7f30486367f0>,\n   <model.Rule.Rule at 0x7f3048636828>,\n   <model.Rule.Rule at 0x7f3048636860>],\n  'samples': 210},\n {'impurity': 0.20244897959183672,\n  'number_neg': 24.0,\n  'number_pos': 186.0,\n  'rules': [<model.Rule.Rule at 0x7f3048636898>],\n  'samples': 210}]"
      ]
     },
     "execution_count": 4,
     "metadata": {},
     "output_type": "execute_result"
    }
   ],
   "source": [
    "tree = hyper_dt.tree\n",
    "patterns = getPatterns(tree)\n",
    "patterns"
   ]
  },
  {
   "cell_type": "code",
   "execution_count": 6,
   "metadata": {},
   "outputs": [
    {
     "name": "stdout",
     "output_type": "stream",
     "text": [
      "Nivel de glucosa máximo del bloque anterior es menor o igual que 234.5000\nMedia del nivel de glucosa del bloque anterior es menor o igual que 145.3208\nNivel de glucosa máximo del día anterior es mayor que 192.0000\nDesviación estandar del nivel de glucosa del bloque anterior es menor o igual que 40.9904\nDesviación estandar del nivel de glucosa del día anterior es menor o igual que 40.9517\n"
     ]
    }
   ],
   "source": [
    "for rule in patterns[0][\"rules\"]:\n",
    "    print(rule)"
   ]
  },
  {
   "cell_type": "code",
   "execution_count": 6,
   "metadata": {},
   "outputs": [],
   "source": [
    ""
   ]
  },
  {
   "cell_type": "markdown",
   "metadata": {},
   "source": [
    ""
   ]
  },
  {
   "cell_type": "code",
   "execution_count": 6,
   "metadata": {},
   "outputs": [],
   "source": [
    ""
   ]
  },
  {
   "cell_type": "code",
   "execution_count": 6,
   "metadata": {},
   "outputs": [],
   "source": [
    ""
   ]
  },
  {
   "cell_type": "code",
   "execution_count": null,
   "metadata": {},
   "outputs": [],
   "source": [
    ""
   ]
  }
 ],
 "metadata": {
  "kernelspec": {
   "display_name": "Python 2",
   "language": "python",
   "name": "python2"
  },
  "language_info": {
   "codemirror_mode": {
    "name": "ipython",
    "version": 2.0
   },
   "file_extension": ".py",
   "mimetype": "text/x-python",
   "name": "python",
   "nbconvert_exporter": "python",
   "pygments_lexer": "ipython2",
   "version": "2.7.6"
  }
 },
 "nbformat": 4,
 "nbformat_minor": 0
}