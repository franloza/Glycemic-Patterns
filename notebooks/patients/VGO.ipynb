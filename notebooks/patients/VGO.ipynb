{
 "cells": [
  {
   "cell_type": "markdown",
   "metadata": {
    "collapsed": false
   },
   "source": [
    "# Patient report\n",
    "## Patient ID: VGO\n",
    "## Dates: 30/03/2016 - 22/06/2016"
   ]
  },
  {
   "cell_type": "code",
   "execution_count": 1,
   "metadata": {},
   "outputs": [
    {
     "data": {
      "text/html": [
       "<div class=\"alert alert-block alert-danger\">There are periods of time of more than one day without data</div>"
      ],
      "text/plain": [
       "<div class=\"alert alert-block alert-danger\">There are periods of time of more than one day without data</div>"
      ]
     },
     "execution_count": 0,
     "metadata": {},
     "output_type": "execute_result"
    },
    {
     "ename": "SystemExit",
     "evalue": "0",
     "traceback": [
      "An exception has occurred, use %tb to see the full traceback.\n",
      "\u001b[0;31mSystemExit\u001b[0m\u001b[0;31m:\u001b[0m 0\n"
     ],
     "output_type": "error"
    },
    {
     "data": {
      "text/html": [
       "<div class=\"alert alert-block alert-warning\">To exit: use 'exit', 'quit', or Ctrl-D.</div>"
      ],
      "text/plain": [
       "<div class=\"alert alert-block alert-warning\">To exit: use 'exit', 'quit', or Ctrl-D.</div>"
      ]
     },
     "execution_count": 0,
     "metadata": {},
     "output_type": "execute_result"
    }
   ],
   "source": [
    "from app import app\n",
    "from IPython.display import Image\n",
    "app('data/VGO_20160330_20160622_FREE_STYLE.txt', max_impurity=0.3, output_path=\"notebooks/patients\", language='es')"
   ]
  },
  {
   "cell_type": "code",
   "execution_count": null,
   "metadata": {},
   "outputs": [],
   "source": [
    ""
   ]
  },
  {
   "cell_type": "markdown",
   "metadata": {},
   "source": [
    "\n"
   ]
  }
 ],
 "metadata": {
  "kernelspec": {
   "display_name": "Python 2",
   "language": "python",
   "name": "python2"
  },
  "language_info": {
   "codemirror_mode": {
    "name": "ipython",
    "version": 2.0
   },
   "file_extension": ".py",
   "mimetype": "text/x-python",
   "name": "python",
   "nbconvert_exporter": "python",
   "pygments_lexer": "ipython2",
   "version": "2.7.6"
  }
 },
 "nbformat": 4,
 "nbformat_minor": 0
}